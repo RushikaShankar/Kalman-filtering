{
 "cells": [
  {
   "cell_type": "code",
   "execution_count": 2,
   "id": "9bb2bc65-8302-4a26-a500-64c7bb5425da",
   "metadata": {},
   "outputs": [
    {
     "name": "stdout",
     "output_type": "stream",
     "text": [
      "Measurement: 1, Predicted State: [0. 0.], Updated State: [0.67741935 0.32258065]\n",
      "Measurement: 2, Predicted State: [1.         0.32258065], Updated State: [1.6875     0.66633065]\n",
      "Measurement: 3, Predicted State: [2.35383065 0.66633065], Updated State: [2.78274869 0.84948314]\n",
      "Measurement: 4, Predicted State: [3.63223183 0.84948314], Updated State: [3.86333461 0.93746592]\n",
      "Measurement: 5, Predicted State: [4.80080052 0.93746592], Updated State: [4.92073824 0.98070783]\n"
     ]
    }
   ],
   "source": [
    "# prompt: kalman filtering\n",
    "\n",
    "import numpy as np\n",
    "\n",
    "class KalmanFilter:\n",
    "    def __init__(self, F, B, H, Q, R, P, x):\n",
    "        self.F = F  # State transition model\n",
    "        self.B = B  # Control-input model\n",
    "        self.H = H  # Observation model\n",
    "        self.Q = Q  # Process noise covariance\n",
    "        self.R = R  # Measurement noise covariance\n",
    "        self.P = P  # Estimate error covariance\n",
    "        self.x = x  # State estimate\n",
    "\n",
    "\n",
    "    def predict(self, u=0):\n",
    "        # Predict the state and covariance\n",
    "        self.x = np.dot(self.F, self.x) + np.dot(self.B, u)\n",
    "        self.P = np.dot(np.dot(self.F, self.P), self.F.T) + self.Q\n",
    "        return self.x\n",
    "\n",
    "    def update(self, z):\n",
    "        # Update the state and covariance based on the measurement\n",
    "        y = z - np.dot(self.H, self.x)  # Innovation or measurement residual\n",
    "        S = np.dot(np.dot(self.H, self.P), self.H.T) + self.R  # Innovation covariance\n",
    "        K = np.dot(np.dot(self.P, self.H.T), np.linalg.inv(S))  # Kalman gain\n",
    "        self.x = self.x + np.dot(K, y)\n",
    "        self.P = np.dot((np.eye(len(self.x)) - np.dot(K, self.H)), self.P)\n",
    "        return self.x\n",
    "\n",
    "# Example usage\n",
    "# Define the system parameters\n",
    "F = np.array([[1, 1], [0, 1]])  # State transition matrix\n",
    "B = np.array([[0.5], [1]]) # Control input model\n",
    "H = np.array([[1, 0]])  # Measurement matrix\n",
    "Q = np.array([[0.1, 0], [0, 0.1]])  # Process noise covariance\n",
    "R = np.array([[1]])  # Measurement noise covariance\n",
    "P = np.array([[1, 0], [0, 1]])  # Initial estimate error covariance\n",
    "x = np.array([[0], [0]])  # Initial state estimate\n",
    "\n",
    "# Create a Kalman filter object\n",
    "kf = KalmanFilter(F, B, H, Q, R, P, x)\n",
    "\n",
    "# Simulate some measurements\n",
    "measurements = [1, 2, 3, 4, 5]\n",
    "\n",
    "# Apply the Kalman filter to the measurements\n",
    "for z in measurements:\n",
    "    predicted_state = kf.predict()  # Predict the next state\n",
    "    updated_state = kf.update(np.array([[z]])) # Update the state with the measurement\n",
    "    print(f\"Measurement: {z}, Predicted State: {predicted_state.flatten()}, Updated State: {updated_state.flatten()}\")\n",
    "\n",
    "\n"
   ]
  },
  {
   "cell_type": "code",
   "execution_count": null,
   "id": "a4d10435-624b-4c02-8e01-391eefeb935a",
   "metadata": {},
   "outputs": [],
   "source": []
  }
 ],
 "metadata": {
  "kernelspec": {
   "display_name": "Python 3 (ipykernel)",
   "language": "python",
   "name": "python3"
  },
  "language_info": {
   "codemirror_mode": {
    "name": "ipython",
    "version": 3
   },
   "file_extension": ".py",
   "mimetype": "text/x-python",
   "name": "python",
   "nbconvert_exporter": "python",
   "pygments_lexer": "ipython3",
   "version": "3.12.7"
  }
 },
 "nbformat": 4,
 "nbformat_minor": 5
}
